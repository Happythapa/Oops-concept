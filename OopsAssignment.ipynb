{
 "cells": [
  {
   "cell_type": "markdown",
   "id": "1f8f0ef0-5bd4-40e6-b958-3bbd48bf88cd",
   "metadata": {},
   "source": [
    "# Oops concept"
   ]
  },
  {
   "cell_type": "markdown",
   "id": "eef62f46-1c73-49c6-93d2-f825ca28caef",
   "metadata": {},
   "source": [
    "#### Q1 Explain Class and Object with respect to Object-Oriented Programming. Give a suitable example."
   ]
  },
  {
   "cell_type": "markdown",
   "id": "3d6b5520-807c-4425-b05a-6e60acbbda64",
   "metadata": {},
   "source": [
    "##### ANS:-OOPs is a programming concept that works on the principles of abstraction, encapsulation, inheritance, and polymorphism."
   ]
  },
  {
   "cell_type": "markdown",
   "id": "a5821ddb-385e-4612-86bd-b5bb3c216a4d",
   "metadata": {},
   "source": [
    "##### A class is a collection of objects.. A class contains the blueprints or the prototype from which the objects are being created. It is a logical entity that contains some attributes and methods.Classes are created by keyword class.Attributes are the variables that belong to a class.Attributes are always public and can be accessed using the dot (.) operator.\n",
    "##### To create a class we use class Keyword :-\n",
    "### class term:\n"
   ]
  },
  {
   "cell_type": "markdown",
   "id": "8e5666f4-2978-446e-a94e-1a777908fb13",
   "metadata": {},
   "source": [
    "##### The object is a real-world entity or variable of a class or instance of a class that has a state and behavior associated with it.\n",
    "##### To create a Object we use class Keyword :-\n",
    "### obj = term()\n",
    "\n",
    "## For example"
   ]
  },
  {
   "cell_type": "code",
   "execution_count": 1,
   "id": "a13ae37b-3c2a-4e29-b32c-9a5f7065c2f8",
   "metadata": {},
   "outputs": [
    {
     "name": "stdout",
     "output_type": "stream",
     "text": [
      "My name is thapa\n"
     ]
    },
    {
     "data": {
      "text/plain": [
       "'thapa'"
      ]
     },
     "execution_count": 1,
     "metadata": {},
     "output_type": "execute_result"
    }
   ],
   "source": [
    " ### class declaration    \n",
    "class term:\n",
    " # Instance attribute(creating a constructor)\n",
    "    def __init__(self, name):\n",
    "        self.name = name\n",
    " # creating a function  \n",
    "    def test1(self):\n",
    "        print(\"My name is {}\".format(self.name)) \n",
    " # creating an object for a class       \n",
    "Happy=term(\"thapa\")\n",
    " # Accessing class method\n",
    "Happy.test1()\n",
    "Happy.name\n"
   ]
  },
  {
   "cell_type": "markdown",
   "id": "9ab18afa-f740-420b-b99c-e376eac64487",
   "metadata": {},
   "source": [
    "#### Q2. Name the four pillars of OOPs. "
   ]
  },
  {
   "cell_type": "markdown",
   "id": "868c9ee1-cf51-4411-9e02-c8599b5e88a7",
   "metadata": {
    "tags": []
   },
   "source": [
    "##### ANS :- Inheritance, Polymorphism, Encapsulation and Abstraction"
   ]
  },
  {
   "cell_type": "markdown",
   "id": "a9b316ae-eedf-4024-910e-41fb549c8d46",
   "metadata": {},
   "source": [
    "  #### Q3. Explain why the __init__() function is used. Give a suitable example.                                                               "
   ]
  },
  {
   "cell_type": "markdown",
   "id": "0d6e1213-cdbc-4e8e-b9c8-a8ecd080d17c",
   "metadata": {},
   "source": [
    "##### ANS :- init() is used to initialize the attributes of an object as soon as the object is formed.In other words it tries to take a data while creating an object & pass that data to my class. \n",
    "#### Example of init() is shown in Question 1."
   ]
  },
  {
   "cell_type": "markdown",
   "id": "d0348782-176d-440c-9c25-9fabdbb54c70",
   "metadata": {},
   "source": [
    "#### Q4. Why self is used in OOPs?"
   ]
  },
  {
   "cell_type": "markdown",
   "id": "c35d3938-886e-4a55-99dd-c67168928ca9",
   "metadata": {},
   "source": [
    "##### ANS :- The self parameter is a reference to the current instance of the class, and is used to access variables that belongs to the class."
   ]
  },
  {
   "cell_type": "markdown",
   "id": "5c09edc1-5ec4-4ac1-86fc-cb6a7984bbd3",
   "metadata": {},
   "source": [
    "#### Q4. What is inheritance? Give an example for each type of inheritance."
   ]
  },
  {
   "cell_type": "markdown",
   "id": "6db8ca85-adf1-480f-afcb-2bb8bb7662f5",
   "metadata": {},
   "source": [
    "##### ANS :- Inheritance is defined as the mechanism of inheriting the properties of the base class to the child class.\n",
    "##### Single Inheritance: \n",
    "Single inheritance enables a derived class to inherit properties from a single parent class, thus enabling code reusability and the addition of new features to existing code.\n",
    "#### For Example:-\n",
    "Father characters are inherited to son. \n",
    "##### Multiple Inheritance: \n",
    "When a class can be derived from more than one base class this type of inheritance is called multiple inheritances. In multiple inheritances, all the features of the base classes are inherited into the derived class. \n",
    "#### For Example :-\n",
    "Mother and Father class characters are inherited to child class.\n",
    "##### Multilevel Inheritance :\n",
    "In multilevel inheritance, features of the base class and the derived class are further inherited into the new derived class. This is similar to a relationship representing a child and a grandfather. \n",
    "#### For Example :-\n",
    "Grandfather characters are inherited to father & father characters are inherited to son.\n",
    "##### Hierarchical Inheritance: \n",
    "When more than one derived class are created from a single base this type of inheritance is called hierarchical inheritance.\n",
    "#### For Example :-\n",
    "Parents characters are inherited to child 1 and child 2.\n",
    "##### Hybrid Inheritance: \n",
    "Inheritance consisting of multiple types of inheritance is called hybrid Inheritance.\n",
    "#### For Example :-\n",
    "\n"
   ]
  },
  {
   "cell_type": "code",
   "execution_count": null,
   "id": "af3204d8-b009-4b95-9e1f-0a6c941f96ab",
   "metadata": {},
   "outputs": [],
   "source": []
  }
 ],
 "metadata": {
  "kernelspec": {
   "display_name": "Python 3 (ipykernel)",
   "language": "python",
   "name": "python3"
  },
  "language_info": {
   "codemirror_mode": {
    "name": "ipython",
    "version": 3
   },
   "file_extension": ".py",
   "mimetype": "text/x-python",
   "name": "python",
   "nbconvert_exporter": "python",
   "pygments_lexer": "ipython3",
   "version": "3.10.8"
  }
 },
 "nbformat": 4,
 "nbformat_minor": 5
}
